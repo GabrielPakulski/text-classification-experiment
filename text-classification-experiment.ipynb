{
 "cells": [
  {
   "cell_type": "markdown",
   "metadata": {},
   "source": [
    "# Introdução\n",
    "\n",
    "## Dissecting GitHub Code Reviews: A Text Classification Experiment\n"
   ]
  },
  {
   "cell_type": "markdown",
   "metadata": {},
   "source": [
    "Esse script é baseado no trabalho de Muntazir Fadhel, disponível em:\n",
    "\n",
    "http://mfadhel.com/github-code-reviews/"
   ]
  },
  {
   "cell_type": "markdown",
   "metadata": {},
   "source": [
    "# Objetivos "
   ]
  },
  {
   "cell_type": "markdown",
   "metadata": {},
   "source": [
    "Reproduzir o experimento de Fadhel, utilizando como entrada comentários de Pull Requests do projeto [Flutter](https://github.com/flutter/flutter)."
   ]
  },
  {
   "cell_type": "markdown",
   "metadata": {},
   "source": [
    "# To-Do"
   ]
  },
  {
   "cell_type": "markdown",
   "metadata": {},
   "source": [
    "> (X) Fazer o download dos dados do projeto Flutter;\n",
    "\n",
    "> ( ) Classificar manualmente os comentários de PR;\n",
    "\n",
    "> (X) Reproduzir o experimento;\n",
    "\n",
    "> ( ) Começar a estudar os algoritmos de classificação;\n",
    "\n",
    "> (X) Atualizar o arquivo Meeting Minutes."
   ]
  },
  {
   "cell_type": "code",
   "execution_count": null,
   "metadata": {},
   "outputs": [],
   "source": []
  }
 ],
 "metadata": {
  "kernelspec": {
   "display_name": "Python 3",
   "language": "python",
   "name": "python3"
  },
  "language_info": {
   "codemirror_mode": {
    "name": "ipython",
    "version": 3
   },
   "file_extension": ".py",
   "mimetype": "text/x-python",
   "name": "python",
   "nbconvert_exporter": "python",
   "pygments_lexer": "ipython3",
   "version": "3.8.2"
  }
 },
 "nbformat": 4,
 "nbformat_minor": 4
}